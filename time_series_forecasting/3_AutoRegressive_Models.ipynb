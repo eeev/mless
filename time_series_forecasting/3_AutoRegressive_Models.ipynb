{
 "cells": [
  {
   "cell_type": "markdown",
   "id": "7bde2663",
   "metadata": {},
   "source": [
    "<a href=\"https://colab.research.google.com/github/maschu09/mless/blob/main/time_series_forecasting/3_AutoRegressive_Models.ipynb\" target=\"_parent\"><img src=\"https://colab.research.google.com/assets/colab-badge.svg\" alt=\"Open In Colab\"/></a>"
   ]
  },
  {
   "cell_type": "markdown",
   "id": "jSe3Bjwx1Mv7",
   "metadata": {
    "id": "jSe3Bjwx1Mv7"
   },
   "source": [
    "## Load the raw data for autoregressive models\n",
    "\n",
    "In the previous notebook, we gained some insights on certain aspects of our data. In this notebook, we shall run the classical auto-regressive ARIMA model and see its performance."
   ]
  },
  {
   "cell_type": "code",
   "execution_count": 3,
   "id": "63c24b78",
   "metadata": {
    "colab": {
     "base_uri": "https://localhost:8080/",
     "height": 206
    },
    "executionInfo": {
     "elapsed": 9371,
     "status": "ok",
     "timestamp": 1749056373754,
     "user": {
      "displayName": "Sindhu Vasireddy",
      "userId": "12995924272851590760"
     },
     "user_tz": -120
    },
    "id": "63c24b78",
    "outputId": "ea501dfc-7916-4779-967c-bc0a227c79ea"
   },
   "outputs": [
    {
     "data": {
      "text/html": [
       "<div>\n",
       "<style scoped>\n",
       "    .dataframe tbody tr th:only-of-type {\n",
       "        vertical-align: middle;\n",
       "    }\n",
       "\n",
       "    .dataframe tbody tr th {\n",
       "        vertical-align: top;\n",
       "    }\n",
       "\n",
       "    .dataframe thead th {\n",
       "        text-align: right;\n",
       "    }\n",
       "</style>\n",
       "<table border=\"1\" class=\"dataframe\">\n",
       "  <thead>\n",
       "    <tr style=\"text-align: right;\">\n",
       "      <th></th>\n",
       "      <th>longitude</th>\n",
       "      <th>latitude</th>\n",
       "      <th>station_code</th>\n",
       "      <th>datetime</th>\n",
       "      <th>temp</th>\n",
       "    </tr>\n",
       "  </thead>\n",
       "  <tbody>\n",
       "    <tr>\n",
       "      <th>0</th>\n",
       "      <td>7.567796</td>\n",
       "      <td>47.819182</td>\n",
       "      <td>DEBW073</td>\n",
       "      <td>1997-01-01 00:00:00+00:00</td>\n",
       "      <td>-10.0</td>\n",
       "    </tr>\n",
       "    <tr>\n",
       "      <th>1</th>\n",
       "      <td>7.567796</td>\n",
       "      <td>47.819182</td>\n",
       "      <td>DEBW073</td>\n",
       "      <td>1997-01-01 01:00:00+00:00</td>\n",
       "      <td>-11.0</td>\n",
       "    </tr>\n",
       "    <tr>\n",
       "      <th>2</th>\n",
       "      <td>7.567796</td>\n",
       "      <td>47.819182</td>\n",
       "      <td>DEBW073</td>\n",
       "      <td>1997-01-01 02:00:00+00:00</td>\n",
       "      <td>-11.0</td>\n",
       "    </tr>\n",
       "    <tr>\n",
       "      <th>3</th>\n",
       "      <td>7.567796</td>\n",
       "      <td>47.819182</td>\n",
       "      <td>DEBW073</td>\n",
       "      <td>1997-01-01 03:00:00+00:00</td>\n",
       "      <td>-12.0</td>\n",
       "    </tr>\n",
       "    <tr>\n",
       "      <th>4</th>\n",
       "      <td>7.567796</td>\n",
       "      <td>47.819182</td>\n",
       "      <td>DEBW073</td>\n",
       "      <td>1997-01-01 04:00:00+00:00</td>\n",
       "      <td>-12.0</td>\n",
       "    </tr>\n",
       "  </tbody>\n",
       "</table>\n",
       "</div>"
      ],
      "text/plain": [
       "   longitude   latitude station_code                  datetime  temp\n",
       "0   7.567796  47.819182      DEBW073 1997-01-01 00:00:00+00:00 -10.0\n",
       "1   7.567796  47.819182      DEBW073 1997-01-01 01:00:00+00:00 -11.0\n",
       "2   7.567796  47.819182      DEBW073 1997-01-01 02:00:00+00:00 -11.0\n",
       "3   7.567796  47.819182      DEBW073 1997-01-01 03:00:00+00:00 -12.0\n",
       "4   7.567796  47.819182      DEBW073 1997-01-01 04:00:00+00:00 -12.0"
      ]
     },
     "execution_count": 3,
     "metadata": {},
     "output_type": "execute_result"
    }
   ],
   "source": [
    "import pandas as pd\n",
    "\n",
    "## Raw data csv is also made available for the select stations in URL:\n",
    "url = \"https://drive.google.com/uc?export=download&id=1cmTTWY3f18SikgRBcZzhtFswIf7XwPJq\"\n",
    "localurl = \"./timeseries_data/raw_data_DOWNLOADED.csv\"\n",
    "dataframe = pd.read_csv(localurl,parse_dates=[\"datetime\"])\n",
    "variable_column = \"temp\"\n",
    "## Else if using local files:\n",
    "# import os\n",
    "# TIMESERIES_DATA_DIR = \"./content/timeseries_data/\"\n",
    "# dataframes = pd.read_csv(os.path.join(TIMESERIES_DATA_DIR, \"raw_data.csv\"))\n",
    "dataframe.head()"
   ]
  },
  {
   "cell_type": "code",
   "execution_count": 4,
   "id": "936bd018",
   "metadata": {
    "colab": {
     "base_uri": "https://localhost:8080/"
    },
    "executionInfo": {
     "elapsed": 32,
     "status": "ok",
     "timestamp": 1749056376256,
     "user": {
      "displayName": "Sindhu Vasireddy",
      "userId": "12995924272851590760"
     },
     "user_tz": -120
    },
    "id": "936bd018",
    "outputId": "41f1602b-291c-4edf-8dbb-28e25fc21b2e"
   },
   "outputs": [
    {
     "data": {
      "text/plain": [
       "(579480, 5)"
      ]
     },
     "execution_count": 4,
     "metadata": {},
     "output_type": "execute_result"
    }
   ],
   "source": [
    "dataframe.shape"
   ]
  },
  {
   "cell_type": "code",
   "execution_count": 2,
   "id": "58b300cc",
   "metadata": {
    "executionInfo": {
     "elapsed": 1017,
     "status": "ok",
     "timestamp": 1749056378984,
     "user": {
      "displayName": "Sindhu Vasireddy",
      "userId": "12995924272851590760"
     },
     "user_tz": -120
    },
    "id": "58b300cc"
   },
   "outputs": [],
   "source": [
    "import pandas as pd\n",
    "import numpy as np\n",
    "from sklearn.metrics import mean_squared_error"
   ]
  },
  {
   "cell_type": "code",
   "execution_count": 4,
   "id": "0b7e3512",
   "metadata": {
    "executionInfo": {
     "elapsed": 69,
     "status": "ok",
     "timestamp": 1749056381090,
     "user": {
      "displayName": "Sindhu Vasireddy",
      "userId": "12995924272851590760"
     },
     "user_tz": -120
    },
    "id": "0b7e3512"
   },
   "outputs": [],
   "source": [
    "# Function to create continous time-series data with past 24 hours as input and next 6 hours as output\n",
    "def create_sequences(data, variable_column, n_past=336, n_future=96):\n",
    "    df = data.copy()\n",
    "    df['datetime'] = pd.to_datetime(df['datetime'])\n",
    "    df = df.sort_values(['station_code', 'datetime']).reset_index(drop=True)\n",
    "\n",
    "    # 1) Encode station_code as a small integer (categorical codes) to save memory\n",
    "    df['sc_code'] = df['station_code'].astype('category')\n",
    "\n",
    "    # 2) Boolean mask: True if exactly 1 hour after the previous row (per station)\n",
    "    is1h = (\n",
    "        df.groupby('station_code')['datetime']\n",
    "          .diff()\n",
    "          .eq(pd.Timedelta(hours=1))\n",
    "    )\n",
    "\n",
    "    # 3) Compute how many consecutive “True” over (n_past + n_future - 1) rows\n",
    "    gap_window = n_past + n_future - 1\n",
    "    run = (\n",
    "        is1h.groupby(df['station_code'])\n",
    "            .rolling(window=gap_window, min_periods=gap_window)\n",
    "            .sum()\n",
    "            .reset_index(level=0, drop=True)\n",
    "    )\n",
    "\n",
    "    # 4) 'ends' are indices where run == gap_window (end of a full-length continuous block)\n",
    "    ends = run[run == gap_window].index\n",
    "\n",
    "    # 5) Grab column‐arrays for encoded station code and the variable\n",
    "    sc_arr  = df['sc_code'].values\n",
    "    vals    = df[variable_column].values\n",
    "\n",
    "    X_list = []\n",
    "    y_list = []\n",
    "    for end_idx in ends:\n",
    "        start_idx = end_idx - gap_window\n",
    "        if start_idx >= 0 and sc_arr[start_idx] == sc_arr[end_idx]:\n",
    "            station_block = sc_arr[start_idx : end_idx + 1]\n",
    "            var_block     = vals[start_idx : end_idx + 1]\n",
    "\n",
    "            block = np.column_stack((station_block, var_block))\n",
    "\n",
    "            X_list.append(block[:n_past, :])\n",
    "            y_list.append(block[n_past:, :])\n",
    "\n",
    "    if not X_list:\n",
    "        # No valid windows\n",
    "        return np.empty((0, n_past, 2)), np.empty((0, n_future, 2))\n",
    "\n",
    "    X = np.stack(X_list)  # shape = (num_windows, n_past, 2)\n",
    "    y = np.stack(y_list)  # shape = (num_windows, n_future, 2)\n",
    "    return X, y\n",
    "\n",
    "# Function to evaluate model performance\n",
    "def evaluate_model(y_true, y_pred):\n",
    "    mse = mean_squared_error(y_true, y_pred)\n",
    "    rmse = np.sqrt(mse)\n",
    "    print(f\"RMSE: {rmse:.4f}\")\n",
    "    return rmse"
   ]
  },
  {
   "cell_type": "code",
   "execution_count": null,
   "id": "7ef1ec10",
   "metadata": {
    "colab": {
     "base_uri": "https://localhost:8080/"
    },
    "executionInfo": {
     "elapsed": 50030,
     "status": "ok",
     "timestamp": 1749056433513,
     "user": {
      "displayName": "Sindhu Vasireddy",
      "userId": "12995924272851590760"
     },
     "user_tz": -120
    },
    "id": "7ef1ec10",
    "outputId": "6e675e8b-24b4-42ac-ac8c-78a14804a18d"
   },
   "outputs": [],
   "source": [
    "context_window = 336\n",
    "prediction_horizon = 96\n",
    "\n",
    "X, y = create_sequences(dataframe,variable_column,context_window,prediction_horizon)\n",
    "\n",
    "train_size = int(len(X) * 0.7) # ! This is problematic, see last cell for explanation\n",
    "X_train, X_test = X[:train_size], X[train_size:]\n",
    "y_train, y_test = y[:train_size], y[train_size:]\n",
    "\n",
    "print(f\"X_train shape: {X_train.shape}, y_train shape: {y_train.shape}\")\n",
    "print(f\"X_test shape: {X_test.shape}, y_test shape: {y_test.shape}\")"
   ]
  },
  {
   "cell_type": "markdown",
   "id": "e9c03ebd",
   "metadata": {
    "id": "e9c03ebd"
   },
   "source": [
    "### Forecasting with MA models: SARIMAX\n",
    "\n",
    "\n",
    "😈 **Task 1:** Try modeling without seasonal terms. How do AIC and RMSE compare?\n",
    "\n",
    "😈 **Task 2:** Add an exogenous variable like `o3` into SARIMAX and observe results.\n",
    "\n",
    "😈 **Question 1:** How does adding an exogenous variable enhance forecasting in SARIMAX?\n",
    "\n",
    "\n"
   ]
  },
  {
   "cell_type": "code",
   "execution_count": 6,
   "id": "25d7cf11",
   "metadata": {
    "colab": {
     "base_uri": "https://localhost:8080/",
     "height": 1000
    },
    "executionInfo": {
     "elapsed": 1219,
     "status": "ok",
     "timestamp": 1749057078295,
     "user": {
      "displayName": "Sindhu Vasireddy",
      "userId": "12995924272851590760"
     },
     "user_tz": -120
    },
    "id": "25d7cf11",
    "outputId": "1714bfce-99b0-4eb1-c411-c7ff032d9c88"
   },
   "outputs": [
    {
     "name": "stdout",
     "output_type": "stream",
     "text": [
      "ADF p-value: 0.00014673595344870535\n"
     ]
    },
    {
     "data": {
      "image/png": "[encoded data removed]",
      "text/plain": [
       "<Figure size 1200x1000 with 1 Axes>"
      ]
     },
     "metadata": {},
     "output_type": "display_data"
    },
    {
     "name": "stdout",
     "output_type": "stream",
     "text": [
      "Mean Squared Error (MSE): 22.917\n"
     ]
    },
    {
     "data": {
      "text/html": [
       "<div>\n",
       "<style scoped>\n",
       "    .dataframe tbody tr th:only-of-type {\n",
       "        vertical-align: middle;\n",
       "    }\n",
       "\n",
       "    .dataframe tbody tr th {\n",
       "        vertical-align: top;\n",
       "    }\n",
       "\n",
       "    .dataframe thead th {\n",
       "        text-align: right;\n",
       "    }\n",
       "</style>\n",
       "<table border=\"1\" class=\"dataframe\">\n",
       "  <thead>\n",
       "    <tr style=\"text-align: right;\">\n",
       "      <th></th>\n",
       "      <th>SARIMA Summary</th>\n",
       "    </tr>\n",
       "  </thead>\n",
       "  <tbody>\n",
       "    <tr>\n",
       "      <th>DENW094</th>\n",
       "      <td>SARIMAX R...</td>\n",
       "    </tr>\n",
       "  </tbody>\n",
       "</table>\n",
       "</div>"
      ],
      "text/plain": [
       "                                            SARIMA Summary\n",
       "DENW094                                       SARIMAX R..."
      ]
     },
     "metadata": {},
     "output_type": "display_data"
    }
   ],
   "source": [
    "import pandas as pd\n",
    "import numpy as np\n",
    "import matplotlib.pyplot as plt\n",
    "from statsmodels.tsa.statespace.sarimax import SARIMAX\n",
    "from statsmodels.tsa.stattools import adfuller\n",
    "from sklearn.metrics import mean_squared_error\n",
    "\n",
    "# Define forecast horizon (96 hours = 4 days)\n",
    "forecast_hours = 96\n",
    "\n",
    "sarima_results = {}\n",
    "\n",
    "# First sample of DENW094 station to compare with PatchTST\n",
    "X_first_idx = np.flatnonzero(X_test[:, 0, 0] == 'DENW094')[0]\n",
    "X_test_sample=X_test[X_first_idx, :, 1].astype(np.float32) # First column is station code hence adding 1\n",
    "# First sample of DENW094 station to compare with PatchTST\n",
    "y_first_idx = np.flatnonzero(X_test[:, 0, 0] == 'DENW094')[0]\n",
    "y_test_sample=y_test[y_first_idx, :, 1].astype(np.float32) # First column is station code hence adding 1\n",
    "\n",
    "# Check stationarity using ADF test\n",
    "adf_test = adfuller(X_test_sample)\n",
    "p_value = adf_test[1]\n",
    "print(f\"ADF p-value: {p_value}\")\n",
    "\n",
    "# Differencing if needed\n",
    "d = 0 if p_value < 0.05 else 1  # If p-value < 0.05, it's stationary\n",
    "seasonal_period = 24\n",
    "\n",
    "# Fit SARIMA model\n",
    "try:\n",
    "    sarima_model = SARIMAX(X_test_sample,\n",
    "        order=(1, d, 1),\n",
    "        seasonal_order=(1, d, 1, seasonal_period),\n",
    "        enforce_stationarity=False,\n",
    "        enforce_invertibility=False).fit()\n",
    "\n",
    "    fitted_values = sarima_model.fittedvalues\n",
    "    forecast = sarima_model.get_forecast(steps=forecast_hours)\n",
    "    forecast_values = forecast.predicted_mean\n",
    "    confidence_intervals = forecast.conf_int()\n",
    "\n",
    "    # Plot actual vs predicted values\n",
    "    plt.figure(figsize=(12, 10))\n",
    "\n",
    "    plt.plot(range(context_window),  X_test_sample, label=\"Context\", color=\"blue\", marker=\"o\")\n",
    "    plt.plot(range(context_window, context_window + prediction_horizon), y_test_sample, label=\"Actual Future\", color=\"green\", marker=\"o\")\n",
    "    plt.plot(range(context_window, context_window + prediction_horizon), forecast_values, label=\"SARIMA Prediction\", linestyle=\"--\", color=\"orange\", marker=\"x\")\n",
    "\n",
    "    plt.title(f\"SARIMA 96-Hour Forecast vs Actual (336h) - DENW094\")\n",
    "    plt.xlabel(\"Time Step\")\n",
    "    plt.ylabel(\"temp Levels\")\n",
    "    plt.legend()\n",
    "    plt.tight_layout()\n",
    "    plt.show()\n",
    "\n",
    "    sarima_results[\"DENW094\"] = sarima_model.summary()\n",
    "\n",
    "    mse = mean_squared_error(y_test_sample, forecast_values)\n",
    "    print(f\"Mean Squared Error (MSE): {mse:.3f}\")\n",
    "\n",
    "except Exception as e:\n",
    "    sarima_results['DENW094'] = f\"Error: {e}\"\n",
    "\n",
    "sarima_results_df = pd.DataFrame.from_dict(sarima_results, orient='index', columns=['SARIMA Summary'])\n",
    "display(sarima_results_df)\n"
   ]
  },
  {
   "cell_type": "markdown",
   "id": "34a1fc90",
   "metadata": {
    "id": "34a1fc90"
   },
   "source": [
    "## Data Preprocessing (Normalization)\n",
    "\n",
    "the snippet below uses standard Z normalization (this is a simple snippet alternatively other approaches could also be used as desired)\n",
    "\n",
    "\n",
    "😈 **Task 3:** Implement min-max normalization and compare the results visually with Z-score.\n"
   ]
  },
  {
   "cell_type": "code",
   "execution_count": 7,
   "id": "lW06F1v7p8mJ",
   "metadata": {
    "id": "lW06F1v7p8mJ"
   },
   "outputs": [],
   "source": [
    "import requests\n",
    "import json\n",
    "import pandas as pd\n",
    "import os\n",
    "import csv\n",
    "from datetime import datetime\n",
    "\n",
    "# German stations with good distribution temp variable observations\n",
    "station_codes = [\"DENW094\", \"DEBW073\",\"DEHE020\"]\n",
    "variable_columns = [\"temp\"]\n",
    "# station_codes = [\"DENW094\"]\n",
    "# variable_columns = [\"no2\", \"temp\", \"o3\", \"no\", \"press\"]"
   ]
  },
  {
   "cell_type": "code",
   "execution_count": 8,
   "id": "b8a947a0",
   "metadata": {
    "id": "b8a947a0"
   },
   "outputs": [],
   "source": [
    "def standard_scaler(df, columns):\n",
    "    \"\"\"\n",
    "    Standardize the specified columns of a DataFrame by subtracting the mean\n",
    "    and dividing by the standard deviation (Z-score normalization).\n",
    "\n",
    "    Args:\n",
    "        df (pd.DataFrame): The input DataFrame.\n",
    "        columns (list): List of column names to be normalized.\n",
    "\n",
    "    Returns:\n",
    "        pd.DataFrame: DataFrame with normalized columns.\n",
    "    \"\"\"\n",
    "\n",
    "    df_scaled = df.copy()\n",
    "    for col in columns:\n",
    "        df_scaled[col] = (\n",
    "            df_scaled\n",
    "            .groupby(\"station_code\")[col]\n",
    "            .transform(lambda x: (x - x.mean()) / x.std())\n",
    "        )\n",
    "    return df_scaled"
   ]
  },
  {
   "cell_type": "code",
   "execution_count": 9,
   "id": "7ff0651c",
   "metadata": {
    "id": "7ff0651c",
    "outputId": "298e3599-44c9-4fba-9fc7-d9682d60836f"
   },
   "outputs": [
    {
     "data": {
      "text/html": [
       "<div>\n",
       "<style scoped>\n",
       "    .dataframe tbody tr th:only-of-type {\n",
       "        vertical-align: middle;\n",
       "    }\n",
       "\n",
       "    .dataframe tbody tr th {\n",
       "        vertical-align: top;\n",
       "    }\n",
       "\n",
       "    .dataframe thead th {\n",
       "        text-align: right;\n",
       "    }\n",
       "</style>\n",
       "<table border=\"1\" class=\"dataframe\">\n",
       "  <thead>\n",
       "    <tr style=\"text-align: right;\">\n",
       "      <th></th>\n",
       "      <th>longitude</th>\n",
       "      <th>latitude</th>\n",
       "      <th>station_code</th>\n",
       "      <th>datetime</th>\n",
       "      <th>temp</th>\n",
       "    </tr>\n",
       "  </thead>\n",
       "  <tbody>\n",
       "    <tr>\n",
       "      <th>0</th>\n",
       "      <td>7.567796</td>\n",
       "      <td>47.819182</td>\n",
       "      <td>DEBW073</td>\n",
       "      <td>1997-01-01 00:00:00+00:00</td>\n",
       "      <td>-2.564191</td>\n",
       "    </tr>\n",
       "    <tr>\n",
       "      <th>1</th>\n",
       "      <td>7.567796</td>\n",
       "      <td>47.819182</td>\n",
       "      <td>DEBW073</td>\n",
       "      <td>1997-01-01 01:00:00+00:00</td>\n",
       "      <td>-2.686422</td>\n",
       "    </tr>\n",
       "    <tr>\n",
       "      <th>2</th>\n",
       "      <td>7.567796</td>\n",
       "      <td>47.819182</td>\n",
       "      <td>DEBW073</td>\n",
       "      <td>1997-01-01 02:00:00+00:00</td>\n",
       "      <td>-2.686422</td>\n",
       "    </tr>\n",
       "    <tr>\n",
       "      <th>3</th>\n",
       "      <td>7.567796</td>\n",
       "      <td>47.819182</td>\n",
       "      <td>DEBW073</td>\n",
       "      <td>1997-01-01 03:00:00+00:00</td>\n",
       "      <td>-2.808654</td>\n",
       "    </tr>\n",
       "    <tr>\n",
       "      <th>4</th>\n",
       "      <td>7.567796</td>\n",
       "      <td>47.819182</td>\n",
       "      <td>DEBW073</td>\n",
       "      <td>1997-01-01 04:00:00+00:00</td>\n",
       "      <td>-2.808654</td>\n",
       "    </tr>\n",
       "  </tbody>\n",
       "</table>\n",
       "</div>"
      ],
      "text/plain": [
       "   longitude   latitude station_code                  datetime      temp\n",
       "0   7.567796  47.819182      DEBW073 1997-01-01 00:00:00+00:00 -2.564191\n",
       "1   7.567796  47.819182      DEBW073 1997-01-01 01:00:00+00:00 -2.686422\n",
       "2   7.567796  47.819182      DEBW073 1997-01-01 02:00:00+00:00 -2.686422\n",
       "3   7.567796  47.819182      DEBW073 1997-01-01 03:00:00+00:00 -2.808654\n",
       "4   7.567796  47.819182      DEBW073 1997-01-01 04:00:00+00:00 -2.808654"
      ]
     },
     "execution_count": 9,
     "metadata": {},
     "output_type": "execute_result"
    }
   ],
   "source": [
    "dataframes = standard_scaler(dataframe, variable_columns)\n",
    "dataframes.head()"
   ]
  },
  {
   "cell_type": "code",
   "execution_count": 11,
   "id": "3ab0b83f",
   "metadata": {
    "id": "3ab0b83f",
    "outputId": "bd056fef-d16c-4535-d6ec-8d8f89b6488b"
   },
   "outputs": [
    {
     "data": {
      "text/plain": [
       "(580016, 5)"
      ]
     },
     "execution_count": 11,
     "metadata": {},
     "output_type": "execute_result"
    }
   ],
   "source": [
    "TIMESERIES_DATA_DIR = \"./timeseries_data/\"\n",
    "dataframes.to_csv(os.path.join(TIMESERIES_DATA_DIR, \"normalized_data_FROM_DOWNLOADED.csv\"), index=False)\n",
    "dataframes.shape"
   ]
  },
  {
   "cell_type": "markdown",
   "id": "346d227f",
   "metadata": {
    "id": "346d227f"
   },
   "source": [
    "### Load the normalized data preparing samples for ML models.\n",
    "\n",
    "\n",
    "> Samples are needed for sequence models and transformer models for input\n",
    "\n",
    "😈 **Task 4:** What are some key differences between AR models and sequence models like RNNs or Transformers?\n",
    "\n",
    "😈 **Question 2:** Why is it important to maintain time continuity when preparing samples for sequence models?\n",
    "\n"
   ]
  },
  {
   "cell_type": "code",
   "execution_count": 1,
   "id": "sRXE9Nxmz3Cu",
   "metadata": {
    "colab": {
     "base_uri": "https://localhost:8080/"
    },
    "executionInfo": {
     "elapsed": 1486,
     "status": "ok",
     "timestamp": 1747670395023,
     "user": {
      "displayName": "Sindhu Vasireddy",
      "userId": "14937452893279665394"
     },
     "user_tz": -120
    },
    "id": "sRXE9Nxmz3Cu",
    "outputId": "446879ba-2100-4444-9b34-8afb7ecbbe2c"
   },
   "outputs": [
    {
     "data": {
      "text/plain": [
       "(579480, 5)"
      ]
     },
     "execution_count": 1,
     "metadata": {},
     "output_type": "execute_result"
    }
   ],
   "source": [
    "import pandas as pd\n",
    "import os\n",
    "\n",
    "## Normalized data csv is also made available for the select stations in URL:\n",
    "#url = \"https://drive.google.com/uc?export=download&id=1Eui59GyTXNv839WijdZ0CkzuMubmZQz1\"\n",
    "localurl = \"./timeseries_data/normalized_data_DOWNLOADED.csv\"\n",
    "dataframe = pd.read_csv(localurl,parse_dates=[\"datetime\"])\n",
    "## Else if using local files:\n",
    "# dataframes = pd.read_csv(os.path.join(TIMESERIES_DATA_DIR, \"normalized_data.csv\"))\n",
    "variable_column = \"temp\"\n",
    "dataframe.shape"
   ]
  },
  {
   "cell_type": "markdown",
   "id": "76b26097",
   "metadata": {
    "id": "76b26097"
   },
   "source": [
    "80/20 train/test split chosen for illustration\n",
    "\n",
    "😈 **Task 5:** Try a rolling-window cross-validation strategy. How does model performance vary?\n",
    "\n",
    "😈 **Question 3:** What are the pitfalls of using random splits in timeseries forecasting?\n"
   ]
  },
  {
   "cell_type": "code",
   "execution_count": 13,
   "id": "181d6c87",
   "metadata": {
    "colab": {
     "base_uri": "https://localhost:8080/"
    },
    "executionInfo": {
     "elapsed": 249953,
     "status": "ok",
     "timestamp": 1747675717124,
     "user": {
      "displayName": "Sindhu Vasireddy",
      "userId": "14937452893279665394"
     },
     "user_tz": -120
    },
    "id": "181d6c87",
    "outputId": "c91c522c-86df-48cf-a166-bf421786af18"
   },
   "outputs": [
    {
     "name": "stdout",
     "output_type": "stream",
     "text": [
      "X_train shape: (374158, 336, 2), y_train shape: (374158, 96, 2)\n",
      "X_test shape: (160354, 336, 2), y_test shape: (160354, 96, 2)\n"
     ]
    }
   ],
   "source": [
    "context_window = 336\n",
    "prediction_horizon = 96\n",
    "\n",
    "X, y = create_sequences(dataframe,variable_column,context_window,prediction_horizon)\n",
    "\n",
    "train_size = int(len(X) * 0.7) # ! This is problematic, see last cell for explanation\n",
    "X_train, X_test = X[:train_size], X[train_size:]\n",
    "y_train, y_test = y[:train_size], y[train_size:]\n",
    "\n",
    "print(f\"X_train shape: {X_train.shape}, y_train shape: {y_train.shape}\")\n",
    "print(f\"X_test shape: {X_test.shape}, y_test shape: {y_test.shape}\")"
   ]
  },
  {
   "cell_type": "code",
   "execution_count": 15,
   "id": "059a8dfe",
   "metadata": {
    "colab": {
     "base_uri": "https://localhost:8080/"
    },
    "executionInfo": {
     "elapsed": 42824,
     "status": "ok",
     "timestamp": 1747670765661,
     "user": {
      "displayName": "Sindhu Vasireddy",
      "userId": "14937452893279665394"
     },
     "user_tz": -120
    },
    "id": "059a8dfe",
    "outputId": "1b033209-8963-43d1-806c-fe8d241deb7a"
   },
   "outputs": [
    {
     "name": "stdout",
     "output_type": "stream",
     "text": [
      "Train/test datasets saved successfully.\n"
     ]
    }
   ],
   "source": [
    "import pickle\n",
    "\n",
    "with open(\"./content/X_train.pkl\", \"wb\") as f:\n",
    "    pickle.dump(X_train, f)\n",
    "\n",
    "with open(\"./content/X_test.pkl\", \"wb\") as f:\n",
    "    pickle.dump(X_test, f)\n",
    "\n",
    "with open(\"./content/y_train.pkl\", \"wb\") as f:\n",
    "    pickle.dump(y_train, f)\n",
    "\n",
    "with open(\"./content/y_test.pkl\", \"wb\") as f:\n",
    "    pickle.dump(y_test, f)\n",
    "\n",
    "print(\"Train/test datasets saved successfully.\")"
   ]
  },
  {
   "cell_type": "code",
   "execution_count": 1,
   "id": "d2361f6d",
   "metadata": {
    "colab": {
     "base_uri": "https://localhost:8080/"
    },
    "executionInfo": {
     "elapsed": 2718,
     "status": "ok",
     "timestamp": 1747670820743,
     "user": {
      "displayName": "Sindhu Vasireddy",
      "userId": "14937452893279665394"
     },
     "user_tz": -120
    },
    "id": "d2361f6d",
    "outputId": "c081eab4-3793-4c05-e1e1-6599630eb5f1"
   },
   "outputs": [
    {
     "name": "stdout",
     "output_type": "stream",
     "text": [
      "X_train shape: (373938, 336, 2), y_train shape: (373938, 96, 2)\n",
      "X_test shape: (160260, 336, 2), y_test shape: (160260, 96, 2)\n"
     ]
    }
   ],
   "source": [
    "import pickle\n",
    "## Processed data .pkl files are also made available for the select stations in URL\n",
    "# Please download the files and place them in content subfolder\n",
    "# else modify below path according to your chosen local download path:\n",
    "# univariate case (temp) : https://drive.google.com/drive/folders/197WGFswCLYinkx-48XBMQKILwJQMokd0?usp=sharing\n",
    "\n",
    "with open(\"./X_train.pkl\", \"rb\") as f:\n",
    "    X_train = pickle.load(f)\n",
    "\n",
    "with open(\"./X_test.pkl\", \"rb\") as f:\n",
    "    X_test = pickle.load(f)\n",
    "\n",
    "with open(\"./y_train.pkl\", \"rb\") as f:\n",
    "    y_train = pickle.load(f)\n",
    "\n",
    "with open(\"./y_test.pkl\", \"rb\") as f:\n",
    "    y_test = pickle.load(f)\n",
    "\n",
    "print(f\"X_train shape: {X_train.shape}, y_train shape: {y_train.shape}\")\n",
    "print(f\"X_test shape: {X_test.shape}, y_test shape: {y_test.shape}\")\n"
   ]
  },
  {
   "cell_type": "markdown",
   "id": "dc51b4ff",
   "metadata": {},
   "source": [
    "# Resolve .pkl issue:"
   ]
  },
  {
   "cell_type": "code",
   "execution_count": 2,
   "id": "a9924af7",
   "metadata": {
    "id": "a9924af7"
   },
   "outputs": [
    {
     "name": "stdout",
     "output_type": "stream",
     "text": [
      "============================================================\n",
      "VALIDATING TRAIN/TEST SPLIT METHODOLOGY\n",
      "============================================================\n",
      "\n",
      "1️⃣ CHECKING STATION PRESENCE IN TRAIN/TEST SETS:\n",
      "--------------------------------------------------\n",
      "\n",
      "TRAIN SET:\n",
      "  📊 Total samples: 373938\n",
      "  🏢 Stations found: ['DEBW073' 'DEHE020' 'DENW094']\n",
      "    - DENW094:  65337 samples ( 17.5%)\n",
      "    - DEBW073: 102565 samples ( 27.4%)\n",
      "    - DEHE020: 206036 samples ( 55.1%)\n",
      "\n",
      "TEST SET:\n",
      "  📊 Total samples: 160260\n",
      "  🏢 Stations found: ['DENW094']\n",
      "    - DENW094: 160260 samples (100.0%)\n",
      "    - DEBW073:      0 samples (  0.0%)\n",
      "    - DEHE020:      0 samples (  0.0%)\n",
      "\n",
      "2️⃣ STATION-WISE TRAIN/TEST DISTRIBUTION:\n",
      "--------------------------------------------------\n",
      "\n",
      "DENW094:\n",
      "  📈 Train:  65337 ( 29.0%)\n",
      "  📉 Test:  160260 ( 71.0%)\n",
      "\n",
      "DEBW073:\n",
      "  📈 Train: 102565 (100.0%)\n",
      "  📉 Test:       0 (  0.0%)\n",
      "  ⚠️  WARNING: NO TEST DATA for DEBW073!\n",
      "\n",
      "DEHE020:\n",
      "  📈 Train: 206036 (100.0%)\n",
      "  📉 Test:       0 (  0.0%)\n",
      "  ⚠️  WARNING: NO TEST DATA for DEHE020!\n",
      "\n",
      "3️⃣ TEMPORAL ANALYSIS - PROVING TEMPORAL SPLIT BIAS:\n",
      "--------------------------------------------------\n",
      "\n",
      "Temporal distribution (sample indices show chronological order):\n",
      "\n",
      "DENW094:\n",
      "  📈 Train samples: indices 308601 to 373937\n",
      "  📉 Test samples:  indices 373938 to 534197\n",
      "\n",
      "DEBW073:\n",
      "  📈 Train samples: indices      0 to 102564\n",
      "  📉 Test samples:  NONE\n",
      "\n",
      "DEHE020:\n",
      "  📈 Train samples: indices 102565 to 308600\n",
      "  📉 Test samples:  NONE\n",
      "\n",
      "4️⃣ CONCLUSION:\n",
      "--------------------------------------------------\n",
      "🚨 METHODOLOGY FLAW CONFIRMED:\n",
      "   Stations missing from test set: ['DEBW073', 'DEHE020']\n",
      "   ❌ This proves temporal split was done ACROSS ALL STATIONS\n",
      "   ❌ Instead of PER-STATION splits\n",
      "   ❌ Stations with earlier data got excluded from test set\n",
      "\n",
      "📋 RECOMMENDATION:\n",
      "   For proper evaluation, implement per-station train/test splits\n",
      "   OR use stratified sampling to ensure all stations in both sets\n",
      "============================================================\n"
     ]
    }
   ],
   "source": [
    "# 🔍 VALIDATION: Check station distribution in pkl files\n",
    "import numpy as np\n",
    "\n",
    "print(\"=\"*60)\n",
    "print(\"VALIDATING TRAIN/TEST SPLIT METHODOLOGY\")\n",
    "print(\"=\"*60)\n",
    "\n",
    "# Expected stations from the data creation process\n",
    "expected_stations = [\"DENW094\", \"DEBW073\", \"DEHE020\"]\n",
    "\n",
    "print(\"\\n1️⃣ CHECKING STATION PRESENCE IN TRAIN/TEST SETS:\")\n",
    "print(\"-\" * 50)\n",
    "\n",
    "for dataset_name, X_data in [(\"TRAIN\", X_train), (\"TEST\", X_test)]:\n",
    "    print(f\"\\n{dataset_name} SET:\")\n",
    "    unique_stations = np.unique(X_data[:, 0, 0])\n",
    "    print(f\"  📊 Total samples: {len(X_data)}\")\n",
    "    print(f\"  🏢 Stations found: {unique_stations}\")\n",
    "    \n",
    "    for station in expected_stations:\n",
    "        station_count = np.sum(X_data[:, 0, 0] == station)\n",
    "        percentage = (station_count / len(X_data)) * 100\n",
    "        print(f\"    - {station}: {station_count:6d} samples ({percentage:5.1f}%)\")\n",
    "\n",
    "print(\"\\n2️⃣ STATION-WISE TRAIN/TEST DISTRIBUTION:\")\n",
    "print(\"-\" * 50)\n",
    "\n",
    "for station in expected_stations:\n",
    "    train_count = np.sum(X_train[:, 0, 0] == station)\n",
    "    test_count = np.sum(X_test[:, 0, 0] == station)\n",
    "    total_count = train_count + test_count\n",
    "    \n",
    "    if total_count > 0:\n",
    "        train_pct = (train_count / total_count) * 100\n",
    "        test_pct = (test_count / total_count) * 100\n",
    "        print(f\"\\n{station}:\")\n",
    "        print(f\"  📈 Train: {train_count:6d} ({train_pct:5.1f}%)\")\n",
    "        print(f\"  📉 Test:  {test_count:6d} ({test_pct:5.1f}%)\")\n",
    "        \n",
    "        if test_count == 0:\n",
    "            print(f\"  ⚠️  WARNING: NO TEST DATA for {station}!\")\n",
    "    else:\n",
    "        print(f\"\\n{station}: NO DATA FOUND!\")\n",
    "\n",
    "print(\"\\n3️⃣ TEMPORAL ANALYSIS - PROVING TEMPORAL SPLIT BIAS:\")\n",
    "print(\"-\" * 50)\n",
    "\n",
    "# Get first and last sample indices for each station in train/test\n",
    "print(\"\\nTemporal distribution (sample indices show chronological order):\")\n",
    "\n",
    "for station in expected_stations:\n",
    "    # Train indices\n",
    "    train_indices = np.where(X_train[:, 0, 0] == station)[0]\n",
    "    test_indices = np.where(X_test[:, 0, 0] == station)[0]\n",
    "    \n",
    "    print(f\"\\n{station}:\")\n",
    "    if len(train_indices) > 0:\n",
    "        print(f\"  📈 Train samples: indices {train_indices[0]:6d} to {train_indices[-1]:6d}\")\n",
    "    else:\n",
    "        print(f\"  📈 Train samples: NONE\")\n",
    "        \n",
    "    if len(test_indices) > 0:\n",
    "        # Add train length to get global index\n",
    "        global_test_start = len(X_train) + test_indices[0]\n",
    "        global_test_end = len(X_train) + test_indices[-1]\n",
    "        print(f\"  📉 Test samples:  indices {global_test_start:6d} to {global_test_end:6d}\")\n",
    "    else:\n",
    "        print(f\"  📉 Test samples:  NONE\")\n",
    "\n",
    "print(\"\\n4️⃣ CONCLUSION:\")\n",
    "print(\"-\" * 50)\n",
    "\n",
    "# Check if any station is missing from test set\n",
    "missing_test_stations = []\n",
    "for station in expected_stations:\n",
    "    test_count = np.sum(X_test[:, 0, 0] == station)\n",
    "    if test_count == 0:\n",
    "        missing_test_stations.append(station)\n",
    "\n",
    "if missing_test_stations:\n",
    "    print(f\"🚨 METHODOLOGY FLAW CONFIRMED:\")\n",
    "    print(f\"   Stations missing from test set: {missing_test_stations}\")\n",
    "    print(f\"   ❌ This proves temporal split was done ACROSS ALL STATIONS\")\n",
    "    print(f\"   ❌ Instead of PER-STATION splits\")\n",
    "    print(f\"   ❌ Stations with earlier data got excluded from test set\")\n",
    "else:\n",
    "    print(f\"✅ All stations present in both train and test sets\")\n",
    "\n",
    "print(f\"\\n📋 RECOMMENDATION:\")\n",
    "print(f\"   For proper evaluation, implement per-station train/test splits\")\n",
    "print(f\"   OR use stratified sampling to ensure all stations in both sets\")\n",
    "\n",
    "print(\"=\"*60)\n"
   ]
  },
  {
   "cell_type": "markdown",
   "id": "aec1adf0",
   "metadata": {},
   "source": [
    "Below cell (re-)creates the .pkl files with per-station train/test splits. Afterwards, it runs above validation again to check station codes."
   ]
  },
  {
   "cell_type": "code",
   "execution_count": 5,
   "id": "f5c12ba0",
   "metadata": {},
   "outputs": [
    {
     "name": "stdout",
     "output_type": "stream",
     "text": [
      "🔧 CREATING PROPER PER-STATION TRAIN/TEST SPLITS\n",
      "============================================================\n",
      "📊 Loaded data shape: (579480, 5)\n",
      "\n",
      "🏭 PROCESSING EACH STATION SEPARATELY:\n",
      "--------------------------------------------------\n",
      "\n",
      "📍 Processing station: DENW094\n",
      "   📊 Station data shape: (246952, 5)\n",
      "   🔄 Created sequences: X=(225597, 336, 2), y=(225597, 96, 2)\n",
      "   📈 Train split: X=(180477, 336, 2), y=(180477, 96, 2)\n",
      "   📉 Test split:  X=(45120, 336, 2), y=(45120, 96, 2)\n",
      "\n",
      "📍 Processing station: DEBW073\n",
      "   📊 Station data shape: (111638, 5)\n",
      "   🔄 Created sequences: X=(102565, 336, 2), y=(102565, 96, 2)\n",
      "   📈 Train split: X=(82052, 336, 2), y=(82052, 96, 2)\n",
      "   📉 Test split:  X=(20513, 336, 2), y=(20513, 96, 2)\n",
      "\n",
      "📍 Processing station: DEHE020\n",
      "   📊 Station data shape: (220890, 5)\n",
      "   🔄 Created sequences: X=(206036, 336, 2), y=(206036, 96, 2)\n",
      "   📈 Train split: X=(164828, 336, 2), y=(164828, 96, 2)\n",
      "   📉 Test split:  X=(41208, 336, 2), y=(41208, 96, 2)\n",
      "\n",
      "🔗 COMBINING ALL STATIONS:\n",
      "--------------------------------------------------\n",
      "✅ Final combined shapes:\n",
      "   X_train: (427357, 336, 2), y_train: (427357, 96, 2)\n",
      "   X_test:  (106841, 336, 2), y_test:  (106841, 96, 2)\n",
      "\n",
      "💾 SAVING CORRECTED PKL FILES:\n",
      "--------------------------------------------------\n",
      "✅ Corrected pkl files saved successfully!\n",
      "   Files: X_train_corrected.pkl, X_test_corrected.pkl, y_train_corrected.pkl, y_test_corrected.pkl\n"
     ]
    }
   ],
   "source": [
    "import pandas as pd\n",
    "import os\n",
    "import numpy as np\n",
    "\n",
    "print(\"🔧 CREATING PROPER PER-STATION TRAIN/TEST SPLITS\")\n",
    "print(\"=\"*60)\n",
    "\n",
    "# Load normalized csv data:\n",
    "localurl = \"./timeseries_data/normalized_data_DOWNLOADED.csv\"\n",
    "dataframe = pd.read_csv(localurl, parse_dates=[\"datetime\"])\n",
    "variable_column = \"temp\"\n",
    "print(f\"📊 Loaded data shape: {dataframe.shape}\")\n",
    "\n",
    "# Parameters\n",
    "context_window = 336\n",
    "prediction_horizon = 96\n",
    "train_ratio = 0.8  # 80/20 split per station\n",
    "\n",
    "# Expected stations\n",
    "expected_stations = [\"DENW094\", \"DEBW073\", \"DEHE020\"]\n",
    "\n",
    "# Initialize lists to collect per-station splits\n",
    "X_train_list = []\n",
    "y_train_list = []\n",
    "X_test_list = []\n",
    "y_test_list = []\n",
    "\n",
    "print(f\"\\n🏭 PROCESSING EACH STATION SEPARATELY:\")\n",
    "print(\"-\" * 50)\n",
    "\n",
    "for station in expected_stations:\n",
    "    print(f\"\\n📍 Processing station: {station}\")\n",
    "    \n",
    "    # Filter data for current station\n",
    "    station_data = dataframe[dataframe['station_code'] == station].copy()\n",
    "    print(f\"   📊 Station data shape: {station_data.shape}\")\n",
    "    \n",
    "    if len(station_data) == 0:\n",
    "        print(f\"   ⚠️  No data found for {station}, skipping...\")\n",
    "        continue\n",
    "    \n",
    "    # Create sequences for this station only\n",
    "    X_station, y_station = create_sequences(station_data, variable_column, context_window, prediction_horizon)\n",
    "    print(f\"   🔄 Created sequences: X={X_station.shape}, y={y_station.shape}\")\n",
    "    \n",
    "    if len(X_station) == 0:\n",
    "        print(f\"   ⚠️  No valid sequences for {station}, skipping...\")\n",
    "        continue\n",
    "    \n",
    "    # Per-station 80/20 split\n",
    "    n_samples = len(X_station)\n",
    "    n_train = int(n_samples * train_ratio)\n",
    "    \n",
    "    # Split this station's data\n",
    "    X_train_station = X_station[:n_train]\n",
    "    y_train_station = y_station[:n_train]\n",
    "    X_test_station = X_station[n_train:]\n",
    "    y_test_station = y_station[n_train:]\n",
    "    \n",
    "    print(f\"   📈 Train split: X={X_train_station.shape}, y={y_train_station.shape}\")\n",
    "    print(f\"   📉 Test split:  X={X_test_station.shape}, y={y_test_station.shape}\")\n",
    "    \n",
    "    # Add to global lists\n",
    "    X_train_list.append(X_train_station)\n",
    "    y_train_list.append(y_train_station)\n",
    "    X_test_list.append(X_test_station)\n",
    "    y_test_list.append(y_test_station)\n",
    "\n",
    "# Combine all stations\n",
    "print(f\"\\n🔗 COMBINING ALL STATIONS:\")\n",
    "print(\"-\" * 50)\n",
    "\n",
    "X_train = np.concatenate(X_train_list, axis=0)\n",
    "y_train = np.concatenate(y_train_list, axis=0)\n",
    "X_test = np.concatenate(X_test_list, axis=0)\n",
    "y_test = np.concatenate(y_test_list, axis=0)\n",
    "\n",
    "print(f\"✅ Final combined shapes:\")\n",
    "print(f\"   X_train: {X_train.shape}, y_train: {y_train.shape}\")\n",
    "print(f\"   X_test:  {X_test.shape}, y_test:  {y_test.shape}\")\n",
    "\n",
    "# Save the corrected pkl files\n",
    "print(f\"\\n💾 SAVING CORRECTED PKL FILES:\")\n",
    "print(\"-\" * 50)\n",
    "\n",
    "import pickle\n",
    "\n",
    "with open(\"./X_train_corrected.pkl\", \"wb\") as f:\n",
    "    pickle.dump(X_train, f)\n",
    "with open(\"./X_test_corrected.pkl\", \"wb\") as f:\n",
    "    pickle.dump(X_test, f)\n",
    "with open(\"./y_train_corrected.pkl\", \"wb\") as f:\n",
    "    pickle.dump(y_train, f)\n",
    "with open(\"./y_test_corrected.pkl\", \"wb\") as f:\n",
    "    pickle.dump(y_test, f)\n",
    "\n",
    "print(\"✅ Corrected pkl files saved successfully!\")\n",
    "print(\"   Files: X_train_corrected.pkl, X_test_corrected.pkl, y_train_corrected.pkl, y_test_corrected.pkl\")"
   ]
  },
  {
   "cell_type": "code",
   "execution_count": 6,
   "id": "543e7c29",
   "metadata": {},
   "outputs": [
    {
     "name": "stdout",
     "output_type": "stream",
     "text": [
      "============================================================\n",
      "VALIDATING CORRECTED PER-STATION SPLITS\n",
      "============================================================\n",
      "\n",
      "1️⃣ CHECKING STATION PRESENCE IN CORRECTED TRAIN/TEST SETS:\n",
      "--------------------------------------------------\n",
      "\n",
      "TRAIN SET:\n",
      "  📊 Total samples: 427357\n",
      "  🏢 Stations found: ['DEBW073' 'DEHE020' 'DENW094']\n",
      "    - DENW094: 180477 samples ( 42.2%)\n",
      "    - DEBW073:  82052 samples ( 19.2%)\n",
      "    - DEHE020: 164828 samples ( 38.6%)\n",
      "\n",
      "TEST SET:\n",
      "  📊 Total samples: 106841\n",
      "  🏢 Stations found: ['DEBW073' 'DEHE020' 'DENW094']\n",
      "    - DENW094:  45120 samples ( 42.2%)\n",
      "    - DEBW073:  20513 samples ( 19.2%)\n",
      "    - DEHE020:  41208 samples ( 38.6%)\n",
      "\n",
      "2️⃣ CORRECTED STATION-WISE TRAIN/TEST DISTRIBUTION:\n",
      "--------------------------------------------------\n",
      "\n",
      "DENW094:\n",
      "  📈 Train: 180477 ( 80.0%)\n",
      "  📉 Test:   45120 ( 20.0%)\n",
      "  ✅ Proper 80/20 split achieved!\n",
      "\n",
      "DEBW073:\n",
      "  📈 Train:  82052 ( 80.0%)\n",
      "  📉 Test:   20513 ( 20.0%)\n",
      "  ✅ Proper 80/20 split achieved!\n",
      "\n",
      "DEHE020:\n",
      "  📈 Train: 164828 ( 80.0%)\n",
      "  📉 Test:   41208 ( 20.0%)\n",
      "  ✅ Proper 80/20 split achieved!\n",
      "\n",
      "3️⃣ VERIFICATION: All stations have both train and test data\n",
      "--------------------------------------------------\n",
      "✅ DENW094: Has both train (180477) and test (45120) samples\n",
      "✅ DEBW073: Has both train (82052) and test (20513) samples\n",
      "✅ DEHE020: Has both train (164828) and test (41208) samples\n",
      "\n",
      "4️⃣ FINAL RESULT:\n",
      "--------------------------------------------------\n",
      "🎉 SUCCESS: All stations now have proper 80/20 train/test splits!\n",
      "🎯 Each station can be independently selected for inference\n",
      "🔬 Models can now be fairly compared across consistent data splits\n",
      "============================================================\n"
     ]
    }
   ],
   "source": [
    "# 🔍 VALIDATION: Verify the corrected per-station splits\n",
    "print(\"=\"*60)\n",
    "print(\"VALIDATING CORRECTED PER-STATION SPLITS\")\n",
    "print(\"=\"*60)\n",
    "\n",
    "expected_stations = [\"DENW094\", \"DEBW073\", \"DEHE020\"]\n",
    "\n",
    "print(\"\\n1️⃣ CHECKING STATION PRESENCE IN CORRECTED TRAIN/TEST SETS:\")\n",
    "print(\"-\" * 50)\n",
    "\n",
    "for dataset_name, X_data in [(\"TRAIN\", X_train), (\"TEST\", X_test)]:\n",
    "    print(f\"\\n{dataset_name} SET:\")\n",
    "    unique_stations = np.unique(X_data[:, 0, 0])\n",
    "    print(f\"  📊 Total samples: {len(X_data)}\")\n",
    "    print(f\"  🏢 Stations found: {unique_stations}\")\n",
    "    \n",
    "    for station in expected_stations:\n",
    "        station_count = np.sum(X_data[:, 0, 0] == station)\n",
    "        percentage = (station_count / len(X_data)) * 100\n",
    "        print(f\"    - {station}: {station_count:6d} samples ({percentage:5.1f}%)\")\n",
    "\n",
    "print(\"\\n2️⃣ CORRECTED STATION-WISE TRAIN/TEST DISTRIBUTION:\")\n",
    "print(\"-\" * 50)\n",
    "\n",
    "for station in expected_stations:\n",
    "    train_count = np.sum(X_train[:, 0, 0] == station)\n",
    "    test_count = np.sum(X_test[:, 0, 0] == station)\n",
    "    total_count = train_count + test_count\n",
    "    \n",
    "    if total_count > 0:\n",
    "        train_pct = (train_count / total_count) * 100\n",
    "        test_pct = (test_count / total_count) * 100\n",
    "        print(f\"\\n{station}:\")\n",
    "        print(f\"  📈 Train: {train_count:6d} ({train_pct:5.1f}%)\")\n",
    "        print(f\"  📉 Test:  {test_count:6d} ({test_pct:5.1f}%)\")\n",
    "        \n",
    "        # Check if ratio is approximately 80/20\n",
    "        if abs(train_pct - 80.0) < 2.0 and abs(test_pct - 20.0) < 2.0:\n",
    "            print(f\"  ✅ Proper 80/20 split achieved!\")\n",
    "        else:\n",
    "            print(f\"  ⚠️  Split ratio deviates from 80/20\")\n",
    "    else:\n",
    "        print(f\"\\n{station}: NO DATA FOUND!\")\n",
    "\n",
    "print(\"\\n3️⃣ VERIFICATION: All stations have both train and test data\")\n",
    "print(\"-\" * 50)\n",
    "\n",
    "all_stations_have_both = True\n",
    "for station in expected_stations:\n",
    "    train_count = np.sum(X_train[:, 0, 0] == station)\n",
    "    test_count = np.sum(X_test[:, 0, 0] == station)\n",
    "    \n",
    "    if train_count > 0 and test_count > 0:\n",
    "        print(f\"✅ {station}: Has both train ({train_count}) and test ({test_count}) samples\")\n",
    "    else:\n",
    "        print(f\"❌ {station}: Missing train ({train_count}) or test ({test_count}) samples\")\n",
    "        all_stations_have_both = False\n",
    "\n",
    "print(f\"\\n4️⃣ FINAL RESULT:\")\n",
    "print(\"-\" * 50)\n",
    "\n",
    "if all_stations_have_both:\n",
    "    print(\"🎉 SUCCESS: All stations now have proper 80/20 train/test splits!\")\n",
    "    print(\"🎯 Each station can be independently selected for inference\")\n",
    "    print(\"🔬 Models can now be fairly compared across consistent data splits\")\n",
    "else:\n",
    "    print(\"❌ ISSUE: Some stations still missing train or test data\")\n",
    "\n",
    "print(\"=\"*60)\n"
   ]
  }
 ],
 "metadata": {
  "colab": {
   "collapsed_sections": [
    "346d227f"
   ],
   "machine_shape": "hm",
   "provenance": []
  },
  "kernelspec": {
   "display_name": "venv310",
   "language": "python",
   "name": "python3"
  },
  "language_info": {
   "codemirror_mode": {
    "name": "ipython",
    "version": 3
   },
   "file_extension": ".py",
   "mimetype": "text/x-python",
   "name": "python",
   "nbconvert_exporter": "python",
   "pygments_lexer": "ipython3",
   "version": "3.10.16"
  }
 },
 "nbformat": 4,
 "nbformat_minor": 5
}
